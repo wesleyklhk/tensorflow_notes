{
  "nbformat": 4,
  "nbformat_minor": 0,
  "metadata": {
    "colab": {
      "name": "Listwise Ranking example.ipynb",
      "provenance": [],
      "collapsed_sections": [
        "BCpTqFtvjS30",
        "Sk-JeyaJjotn"
      ]
    },
    "kernelspec": {
      "name": "python3",
      "display_name": "Python 3"
    },
    "language_info": {
      "name": "python"
    }
  },
  "cells": [
    {
      "cell_type": "code",
      "execution_count": 1,
      "metadata": {
        "colab": {
          "base_uri": "https://localhost:8080/"
        },
        "id": "wabHUFqKViCc",
        "outputId": "23e6e241-0127-4d34-a049-c65dbe292cad"
      },
      "outputs": [
        {
          "output_type": "stream",
          "name": "stdout",
          "text": [
            "\u001b[K     |████████████████████████████████| 88 kB 4.1 MB/s \n",
            "\u001b[K     |████████████████████████████████| 511.7 MB 4.5 kB/s \n",
            "\u001b[K     |████████████████████████████████| 438 kB 24.5 MB/s \n",
            "\u001b[K     |████████████████████████████████| 1.6 MB 43.9 MB/s \n",
            "\u001b[K     |████████████████████████████████| 5.8 MB 36.5 MB/s \n",
            "\u001b[K     |████████████████████████████████| 4.3 MB 5.3 MB/s \n",
            "\u001b[K     |████████████████████████████████| 141 kB 5.2 MB/s \n",
            "\u001b[?25h"
          ]
        }
      ],
      "source": [
        "!pip install -q tensorflow-recommenders\n",
        "!pip install -q --upgrade tensorflow-datasets\n",
        "!pip install -q tensorflow-ranking"
      ]
    },
    {
      "cell_type": "markdown",
      "source": [
        "#Packages Version"
      ],
      "metadata": {
        "id": "BCpTqFtvjS30"
      }
    },
    {
      "cell_type": "code",
      "source": [
        "!pip freeze"
      ],
      "metadata": {
        "colab": {
          "base_uri": "https://localhost:8080/"
        },
        "id": "nWGGkuAijYYr",
        "outputId": "3ff4c9ff-ffcc-4247-bbf0-fa2631b5104b"
      },
      "execution_count": null,
      "outputs": [
        {
          "output_type": "stream",
          "name": "stdout",
          "text": [
            "absl-py==1.2.0\n",
            "aiohttp==3.8.1\n",
            "aiosignal==1.2.0\n",
            "alabaster==0.7.12\n",
            "albumentations==0.1.12\n",
            "altair==4.2.0\n",
            "appdirs==1.4.4\n",
            "argon2-cffi==21.3.0\n",
            "argon2-cffi-bindings==21.2.0\n",
            "arviz==0.12.1\n",
            "astor==0.8.1\n",
            "astropy==4.3.1\n",
            "astunparse==1.6.3\n",
            "async-timeout==4.0.2\n",
            "asynctest==0.13.0\n",
            "atari-py==0.2.9\n",
            "atomicwrites==1.4.1\n",
            "attrs==21.4.0\n",
            "audioread==2.1.9\n",
            "autograd==1.4\n",
            "Babel==2.10.3\n",
            "backcall==0.2.0\n",
            "beautifulsoup4==4.6.3\n",
            "bleach==5.0.1\n",
            "blis==0.7.8\n",
            "bokeh==2.3.3\n",
            "branca==0.5.0\n",
            "bs4==0.0.1\n",
            "CacheControl==0.12.11\n",
            "cached-property==1.5.2\n",
            "cachetools==4.2.4\n",
            "catalogue==2.0.8\n",
            "certifi==2022.6.15\n",
            "cffi==1.15.1\n",
            "cftime==1.6.1\n",
            "chardet==3.0.4\n",
            "charset-normalizer==2.1.0\n",
            "click==7.1.2\n",
            "clikit==0.6.2\n",
            "cloudpickle==1.3.0\n",
            "cmake==3.22.5\n",
            "cmdstanpy==1.0.4\n",
            "colorcet==3.0.0\n",
            "colorlover==0.3.0\n",
            "community==1.0.0b1\n",
            "contextlib2==0.5.5\n",
            "convertdate==2.4.0\n",
            "coverage==3.7.1\n",
            "coveralls==0.5\n",
            "crashtest==0.3.1\n",
            "crcmod==1.7\n",
            "cufflinks==0.17.3\n",
            "cvxopt==1.2.7\n",
            "cvxpy==1.0.31\n",
            "cycler==0.11.0\n",
            "cymem==2.0.6\n",
            "Cython==0.29.30\n",
            "daft==0.0.4\n",
            "dask==2.12.0\n",
            "datascience==0.10.6\n",
            "debugpy==1.0.0\n",
            "decorator==4.4.2\n",
            "defusedxml==0.7.1\n",
            "deprecat==2.1.1\n",
            "descartes==1.1.0\n",
            "dill==0.3.5.1\n",
            "distributed==1.25.3\n",
            "dlib==19.24.0\n",
            "dm-tree==0.1.7\n",
            "docopt==0.6.2\n",
            "docutils==0.17.1\n",
            "dopamine-rl==1.0.5\n",
            "earthengine-api==0.1.317\n",
            "easydict==1.9\n",
            "ecos==2.0.10\n",
            "editdistance==0.5.3\n",
            "en-core-web-sm @ https://github.com/explosion/spacy-models/releases/download/en_core_web_sm-3.4.0/en_core_web_sm-3.4.0-py3-none-any.whl\n",
            "entrypoints==0.4\n",
            "ephem==4.1.3\n",
            "et-xmlfile==1.1.0\n",
            "etils==0.6.0\n",
            "fa2==0.3.5\n",
            "fastai==2.7.7\n",
            "fastcore==1.5.10\n",
            "fastdownload==0.0.7\n",
            "fastdtw==0.3.4\n",
            "fastjsonschema==2.16.1\n",
            "fastprogress==1.0.3\n",
            "fastrlock==0.8\n",
            "feather-format==0.4.1\n",
            "filelock==3.7.1\n",
            "firebase-admin==4.4.0\n",
            "fix-yahoo-finance==0.0.22\n",
            "Flask==1.1.4\n",
            "flatbuffers==1.12\n",
            "folium==0.8.3\n",
            "frozenlist==1.3.0\n",
            "future==0.16.0\n",
            "gast==0.4.0\n",
            "GDAL==2.2.2\n",
            "gdown==4.4.0\n",
            "gensim==3.6.0\n",
            "geographiclib==1.52\n",
            "geopy==1.17.0\n",
            "gin-config==0.5.0\n",
            "glob2==0.7\n",
            "google==2.0.3\n",
            "google-api-core==1.31.6\n",
            "google-api-python-client==1.12.11\n",
            "google-auth==1.35.0\n",
            "google-auth-httplib2==0.0.4\n",
            "google-auth-oauthlib==0.4.6\n",
            "google-cloud-bigquery==1.21.0\n",
            "google-cloud-bigquery-storage==1.1.2\n",
            "google-cloud-core==1.0.3\n",
            "google-cloud-datastore==1.8.0\n",
            "google-cloud-firestore==1.7.0\n",
            "google-cloud-language==1.2.0\n",
            "google-cloud-storage==1.18.1\n",
            "google-cloud-translate==1.5.0\n",
            "google-colab @ file:///colabtools/dist/google-colab-1.0.0.tar.gz\n",
            "google-pasta==0.2.0\n",
            "google-resumable-media==0.4.1\n",
            "googleapis-common-protos==1.56.4\n",
            "googledrivedownloader==0.4\n",
            "graphviz==0.10.1\n",
            "greenlet==1.1.2\n",
            "grpcio==1.47.0\n",
            "gspread==3.4.2\n",
            "gspread-dataframe==3.0.8\n",
            "gym==0.17.3\n",
            "h5py==3.1.0\n",
            "HeapDict==1.0.1\n",
            "hijri-converter==2.2.4\n",
            "holidays==0.14.2\n",
            "holoviews==1.14.9\n",
            "html5lib==1.0.1\n",
            "httpimport==0.5.18\n",
            "httplib2==0.17.4\n",
            "httplib2shim==0.0.3\n",
            "httpstan==4.6.1\n",
            "humanize==0.5.1\n",
            "hyperopt==0.1.2\n",
            "idna==2.10\n",
            "imageio==2.4.1\n",
            "imagesize==1.4.1\n",
            "imbalanced-learn==0.8.1\n",
            "imblearn==0.0\n",
            "imgaug==0.2.9\n",
            "importlib-metadata==4.12.0\n",
            "importlib-resources==5.9.0\n",
            "imutils==0.5.4\n",
            "inflect==2.1.0\n",
            "iniconfig==1.1.1\n",
            "intel-openmp==2022.1.0\n",
            "intervaltree==2.1.0\n",
            "ipykernel==4.10.1\n",
            "ipython==5.5.0\n",
            "ipython-genutils==0.2.0\n",
            "ipython-sql==0.3.9\n",
            "ipywidgets==7.7.1\n",
            "itsdangerous==1.1.0\n",
            "jax==0.3.14\n",
            "jaxlib @ https://storage.googleapis.com/jax-releases/cuda11/jaxlib-0.3.14+cuda11.cudnn805-cp37-none-manylinux2014_x86_64.whl\n",
            "jedi==0.18.1\n",
            "jieba==0.42.1\n",
            "Jinja2==2.11.3\n",
            "joblib==1.1.0\n",
            "jpeg4py==0.1.4\n",
            "jsonschema==4.3.3\n",
            "jupyter==1.0.0\n",
            "jupyter-client==5.3.5\n",
            "jupyter-console==5.2.0\n",
            "jupyter-core==4.11.1\n",
            "jupyterlab-pygments==0.2.2\n",
            "jupyterlab-widgets==1.1.1\n",
            "kaggle==1.5.12\n",
            "kapre==0.3.7\n",
            "keras==2.9.0\n",
            "Keras-Preprocessing==1.1.2\n",
            "keras-vis==0.4.1\n",
            "kiwisolver==1.4.4\n",
            "korean-lunar-calendar==0.2.1\n",
            "langcodes==3.3.0\n",
            "libclang==14.0.1\n",
            "librosa==0.8.1\n",
            "lightgbm==2.2.3\n",
            "llvmlite==0.34.0\n",
            "lmdb==0.99\n",
            "LunarCalendar==0.0.9\n",
            "lxml==4.2.6\n",
            "Markdown==3.4.1\n",
            "MarkupSafe==2.0.1\n",
            "marshmallow==3.17.0\n",
            "matplotlib==3.2.2\n",
            "matplotlib-inline==0.1.3\n",
            "matplotlib-venn==0.11.7\n",
            "missingno==0.5.1\n",
            "mistune==0.8.4\n",
            "mizani==0.6.0\n",
            "mkl==2019.0\n",
            "mlxtend==0.14.0\n",
            "more-itertools==8.13.0\n",
            "moviepy==0.2.3.5\n",
            "mpmath==1.2.1\n",
            "msgpack==1.0.4\n",
            "multidict==6.0.2\n",
            "multiprocess==0.70.13\n",
            "multitasking==0.0.11\n",
            "murmurhash==1.0.7\n",
            "music21==5.5.0\n",
            "natsort==5.5.0\n",
            "nbclient==0.6.6\n",
            "nbconvert==5.6.1\n",
            "nbformat==5.4.0\n",
            "nest-asyncio==1.5.5\n",
            "netCDF4==1.6.0\n",
            "networkx==2.6.3\n",
            "nibabel==3.0.2\n",
            "nltk==3.7\n",
            "notebook==5.3.1\n",
            "numba==0.51.2\n",
            "numexpr==2.8.3\n",
            "numpy==1.21.6\n",
            "oauth2client==4.1.3\n",
            "oauthlib==3.2.0\n",
            "okgrade==0.4.3\n",
            "opencv-contrib-python==4.6.0.66\n",
            "opencv-python==4.6.0.66\n",
            "openpyxl==3.0.10\n",
            "opt-einsum==3.3.0\n",
            "osqp==0.6.2.post0\n",
            "packaging==21.3\n",
            "palettable==3.3.0\n",
            "pandas==1.3.5\n",
            "pandas-datareader==0.9.0\n",
            "pandas-gbq==0.13.3\n",
            "pandas-profiling==1.4.1\n",
            "pandocfilters==1.5.0\n",
            "panel==0.12.1\n",
            "param==1.12.2\n",
            "parso==0.8.3\n",
            "pastel==0.2.1\n",
            "pathlib==1.0.1\n",
            "pathy==0.6.2\n",
            "patsy==0.5.2\n",
            "pep517==0.12.0\n",
            "pexpect==4.8.0\n",
            "pickleshare==0.7.5\n",
            "Pillow==7.1.2\n",
            "pip-tools==6.2.0\n",
            "plotly==5.5.0\n",
            "plotnine==0.6.0\n",
            "pluggy==0.7.1\n",
            "pooch==1.6.0\n",
            "portpicker==1.3.9\n",
            "prefetch-generator==1.0.1\n",
            "preshed==3.0.6\n",
            "prettytable==3.3.0\n",
            "progressbar2==3.38.0\n",
            "prometheus-client==0.14.1\n",
            "promise==2.3\n",
            "prompt-toolkit==1.0.18\n",
            "prophet==1.1\n",
            "protobuf==3.17.3\n",
            "psutil==5.4.8\n",
            "psycopg2==2.7.6.1\n",
            "ptyprocess==0.7.0\n",
            "py==1.11.0\n",
            "pyarrow==6.0.1\n",
            "pyasn1==0.4.8\n",
            "pyasn1-modules==0.2.8\n",
            "pycocotools==2.0.4\n",
            "pycparser==2.21\n",
            "pyct==0.4.8\n",
            "pydantic==1.9.1\n",
            "pydata-google-auth==1.4.0\n",
            "pydot==1.3.0\n",
            "pydot-ng==2.0.0\n",
            "pydotplus==2.0.2\n",
            "PyDrive==1.3.1\n",
            "pyemd==0.5.1\n",
            "pyerfa==2.0.0.1\n",
            "pyglet==1.5.0\n",
            "Pygments==2.6.1\n",
            "pygobject==3.26.1\n",
            "pylev==1.4.0\n",
            "pymc3==3.11.5\n",
            "PyMeeus==0.5.11\n",
            "pymongo==4.2.0\n",
            "pymystem3==0.2.0\n",
            "PyOpenGL==3.1.6\n",
            "pyparsing==3.0.9\n",
            "pyrsistent==0.18.1\n",
            "pysimdjson==3.2.0\n",
            "pysndfile==1.3.8\n",
            "PySocks==1.7.1\n",
            "pystan==3.3.0\n",
            "pytest==3.6.4\n",
            "python-apt==0.0.0\n",
            "python-chess==0.23.11\n",
            "python-dateutil==2.8.2\n",
            "python-louvain==0.16\n",
            "python-slugify==6.1.2\n",
            "python-utils==3.3.3\n",
            "pytz==2022.1\n",
            "pyviz-comms==2.2.0\n",
            "PyWavelets==1.3.0\n",
            "PyYAML==3.13\n",
            "pyzmq==23.2.0\n",
            "qdldl==0.1.5.post2\n",
            "qtconsole==5.3.1\n",
            "QtPy==2.1.0\n",
            "regex==2022.6.2\n",
            "requests==2.23.0\n",
            "requests-oauthlib==1.3.1\n",
            "resampy==0.3.1\n",
            "rpy2==3.4.5\n",
            "rsa==4.9\n",
            "scikit-image==0.18.3\n",
            "scikit-learn==1.0.2\n",
            "scipy==1.7.3\n",
            "screen-resolution-extra==0.0.0\n",
            "scs==3.2.0\n",
            "seaborn==0.11.2\n",
            "semver==2.13.0\n",
            "Send2Trash==1.8.0\n",
            "setuptools-git==1.2\n",
            "Shapely==1.8.2\n",
            "simplegeneric==0.8.1\n",
            "six==1.15.0\n",
            "sklearn==0.0\n",
            "sklearn-pandas==1.8.0\n",
            "smart-open==5.2.1\n",
            "snowballstemmer==2.2.0\n",
            "sortedcontainers==2.4.0\n",
            "SoundFile==0.10.3.post1\n",
            "soupsieve==2.3.2.post1\n",
            "spacy==3.4.1\n",
            "spacy-legacy==3.0.9\n",
            "spacy-loggers==1.0.3\n",
            "Sphinx==1.8.6\n",
            "sphinxcontrib-serializinghtml==1.1.5\n",
            "sphinxcontrib-websupport==1.2.4\n",
            "SQLAlchemy==1.4.39\n",
            "sqlparse==0.4.2\n",
            "srsly==2.4.4\n",
            "statsmodels==0.10.2\n",
            "sympy==1.7.1\n",
            "tables==3.7.0\n",
            "tabulate==0.8.10\n",
            "tblib==1.7.0\n",
            "tenacity==8.0.1\n",
            "tensorboard==2.9.1\n",
            "tensorboard-data-server==0.6.1\n",
            "tensorboard-plugin-wit==1.8.1\n",
            "tensorflow==2.9.1\n",
            "tensorflow-datasets==4.6.0\n",
            "tensorflow-estimator==2.9.0\n",
            "tensorflow-gcs-config==2.8.0\n",
            "tensorflow-hub==0.12.0\n",
            "tensorflow-io-gcs-filesystem==0.26.0\n",
            "tensorflow-metadata==1.9.0\n",
            "tensorflow-probability==0.16.0\n",
            "tensorflow-ranking==0.5.0\n",
            "tensorflow-recommenders==0.7.0\n",
            "tensorflow-serving-api==2.9.1\n",
            "termcolor==1.1.0\n",
            "terminado==0.13.3\n",
            "testpath==0.6.0\n",
            "text-unidecode==1.3\n",
            "textblob==0.15.3\n",
            "Theano-PyMC==1.1.2\n",
            "thinc==8.1.0\n",
            "threadpoolctl==3.1.0\n",
            "tifffile==2021.11.2\n",
            "tinycss2==1.1.1\n",
            "toml==0.10.2\n",
            "tomli==2.0.1\n",
            "toolz==0.12.0\n",
            "torch @ https://download.pytorch.org/whl/cu113/torch-1.12.0%2Bcu113-cp37-cp37m-linux_x86_64.whl\n",
            "torchaudio @ https://download.pytorch.org/whl/cu113/torchaudio-0.12.0%2Bcu113-cp37-cp37m-linux_x86_64.whl\n",
            "torchsummary==1.5.1\n",
            "torchtext==0.13.0\n",
            "torchvision @ https://download.pytorch.org/whl/cu113/torchvision-0.13.0%2Bcu113-cp37-cp37m-linux_x86_64.whl\n",
            "tornado==5.1.1\n",
            "tqdm==4.64.0\n",
            "traitlets==5.1.1\n",
            "tweepy==3.10.0\n",
            "typeguard==2.7.1\n",
            "typer==0.4.2\n",
            "typing-extensions==4.1.1\n",
            "tzlocal==1.5.1\n",
            "ujson==5.4.0\n",
            "uritemplate==3.0.1\n",
            "urllib3==1.24.3\n",
            "vega-datasets==0.9.0\n",
            "wasabi==0.9.1\n",
            "wcwidth==0.2.5\n",
            "webargs==8.2.0\n",
            "webencodings==0.5.1\n",
            "Werkzeug==1.0.1\n",
            "widgetsnbextension==3.6.1\n",
            "wordcloud==1.5.0\n",
            "wrapt==1.14.1\n",
            "xarray==0.20.2\n",
            "xarray-einstats==0.2.2\n",
            "xgboost==0.90\n",
            "xkit==0.0.0\n",
            "xlrd==1.1.0\n",
            "xlwt==1.3.0\n",
            "yarl==1.7.2\n",
            "yellowbrick==1.4\n",
            "zict==2.2.0\n",
            "zipp==3.8.1\n"
          ]
        }
      ]
    },
    {
      "cell_type": "markdown",
      "source": [
        "#Import Packages"
      ],
      "metadata": {
        "id": "Sk-JeyaJjotn"
      }
    },
    {
      "cell_type": "code",
      "source": [
        "import tensorflow as tf\n",
        "import pprint\n",
        "\n",
        "import numpy as np\n",
        "import tensorflow as tf\n",
        "import tensorflow_datasets as tfds\n",
        "\n",
        "import tensorflow_ranking as tfr\n",
        "import tensorflow_recommenders as tfrs\n",
        "from tensorflow_ranking import utils\n",
        "\n",
        "\n",
        "\n"
      ],
      "metadata": {
        "id": "EKtqVlL8jf7S"
      },
      "execution_count": 2,
      "outputs": []
    },
    {
      "cell_type": "markdown",
      "source": [
        "# Understanding List tfr.keras.losses.ListMLELoss()"
      ],
      "metadata": {
        "id": "2dH3481Yi332"
      }
    },
    {
      "cell_type": "markdown",
      "source": [
        "##Purpose of ListMLELoss\n",
        "\n",
        "Given the following dataset: <br>\n",
        "Note1: These score columns are the estimated score from the neural network <br>\n",
        "Note2: This order of preference is given; Can think of it as response variable Y but instead of a label or numeric value, it is an ordered list <br>\n",
        "<table>\n",
        "  <thead>\n",
        "    <tr>\n",
        "      <td>Product A Score[See Note1]</td>\n",
        "      <td>Product B Score[See Note1]</td>\n",
        "      <td>Product C Score[See Note1]</td>\n",
        "      <td>Order of Preference[See Note2]</td>\n",
        "    </tr>\n",
        "  </thead> \n",
        "  <tr>\n",
        "      <td>0.5</td>\n",
        "      <td>0.8</td>\n",
        "      <td>0.4</td>\n",
        "      <td>C > A > B or equivalently [2,1,3]</td>\n",
        "  </tr>\n",
        "  <tr>\n",
        "      <td>-0.3</td>\n",
        "      <td>0.2</td>\n",
        "      <td>1.9</td>\n",
        "      <td>B > A > C or equivalently [2,3,1] </td>\n",
        "  </tr>\n",
        "</table>\n",
        "\n",
        "Our goal here is to compute the negative likelihood of seeing this dataset.\n",
        "Taking row 1 as an example: \n",
        "<table>\n",
        "  <thead>\n",
        "    <tr>\n",
        "      <td>Product A Score</td>\n",
        "      <td>Product B Score</td>\n",
        "      <td>Product C Score</td>\n",
        "      <td>Order of Preference</td>\n",
        "    </tr>\n",
        "  </thead> \n",
        "  <tr>\n",
        "      <td>0.5</td>\n",
        "      <td>0.8</td>\n",
        "      <td>0.4</td>\n",
        "      <td>C > A > B</td>\n",
        "  </tr>\n",
        "</table>\n",
        "\n",
        "The probability of seeing C in the 1st place, A in the 2nd place and C in the 3rd place:\n",
        "\n",
        "$$ P(C>A>B | Scores=[0.5,0.8,0.4]) = \\dfrac{e^{0.4}}{e^{0.4} + e^{0.5} + e^{0.8}} \\dfrac{e^{0.5}}{ e^{0.5} + e^{0.8}} \\dfrac{e^{0.8}}{ e^{0.8}} $$\n",
        "\n",
        "The ListMLELoss for this single sample is then the negative log likelihood of this probability:\n",
        "\n",
        "$$ListMLELoss_{Row1} = -log(  P(C>A>B | Scores=[0.5,0.8,0.4])  )$$ \n",
        "$$= -(log \\dfrac{e^{0.4}}{e^{0.4} + e^{0.5} + e^{0.8}} + log \\dfrac{e^{0.5}}{e^{0.5} + e^{0.8}} + log\\dfrac{e^{0.8}}{e^{0.8}} )$$\n",
        "$$ = - (log(e^{0.4}) - log(e^{0.4} + e^{0.5} + e^{0.8}) ) - (log(e^{0.5}) - log(e^{0.5} + e^{0.8}) ) - (log(e^{0.8}) - log( e^{0.8}) ) $$\n",
        "$$ = log(e^{0.4} + e^{0.5} + e^{0.8}) + log(e^{0.5} + e^{0.8}) + log( e^{0.8}) -(0.4 + 0.5 + 0.8)$$\n",
        "$$ = 2.1344543 $$\n",
        "\n",
        "Let's use tensorflow to calculate this"
      ],
      "metadata": {
        "id": "kG138bJgju2s"
      }
    },
    {
      "cell_type": "code",
      "source": [
        "y_true1 = tf.constant([[2., 1.,3.]]) ##### this allows you to specify the order of preference; higher the value, higher the priority\n",
        "y_pred1 = tf.constant([[0.5, 0.8,0.4] ])\n",
        "loss = tfr.keras.losses.ListMLELoss()\n",
        "l1 = loss(y_true1, y_pred1).numpy()\n",
        "l1"
      ],
      "metadata": {
        "colab": {
          "base_uri": "https://localhost:8080/"
        },
        "id": "P-x0V0cJ53P-",
        "outputId": "27732ec1-e91f-486f-c0ee-197a242d1462"
      },
      "execution_count": 3,
      "outputs": [
        {
          "output_type": "execute_result",
          "data": {
            "text/plain": [
              "2.1344543"
            ]
          },
          "metadata": {},
          "execution_count": 3
        }
      ]
    },
    {
      "cell_type": "markdown",
      "source": [
        "Similarly for Row 2, the ListMLELoss =  "
      ],
      "metadata": {
        "id": "Sx-3-DkQC0Oh"
      }
    },
    {
      "cell_type": "code",
      "source": [
        "y_true2 = tf.constant([[2., 3.,1.]]) ##### this allows you to specify the order of preference; higher the value, higher the priority\n",
        "y_pred2 = tf.constant([[-.3, 0.2,1.9] ])\n",
        "loss = tfr.keras.losses.ListMLELoss()\n",
        "l2 = loss(y_true2, y_pred2).numpy()\n",
        "l2"
      ],
      "metadata": {
        "colab": {
          "base_uri": "https://localhost:8080/"
        },
        "id": "YINXd-0ultv6",
        "outputId": "ca087a67-5de8-45eb-d89a-140a508e9646"
      },
      "execution_count": 4,
      "outputs": [
        {
          "output_type": "execute_result",
          "data": {
            "text/plain": [
              "4.2624245"
            ]
          },
          "metadata": {},
          "execution_count": 4
        }
      ]
    },
    {
      "cell_type": "markdown",
      "source": [
        "The average loss of the dataset = "
      ],
      "metadata": {
        "id": "up4jpLqMFaZl"
      }
    },
    {
      "cell_type": "code",
      "source": [
        "y_true = tf.constant([[2., 1.,3.],##### this allows you to specify the order of preference\n",
        "                      [2., 3.,1.]]) \n",
        "y_pred = tf.constant([[0.5, 0.8,0.4],\n",
        "                      [-.3, 0.2,1.9]])\n",
        "loss = tfr.keras.losses.ListMLELoss()\n",
        "l = loss(y_true, y_pred).numpy()\n",
        "l , np.mean([l1,l2])"
      ],
      "metadata": {
        "colab": {
          "base_uri": "https://localhost:8080/"
        },
        "id": "URK1vGA8AKRb",
        "outputId": "67a2f387-1958-4398-d6b0-29efb6251a4b"
      },
      "execution_count": null,
      "outputs": [
        {
          "output_type": "execute_result",
          "data": {
            "text/plain": [
              "(3.1984394, 3.1984394)"
            ]
          },
          "metadata": {},
          "execution_count": 201
        }
      ]
    },
    {
      "cell_type": "markdown",
      "source": [
        "*As a side note, the order of preference is only used to show the preferred ranking of the products. In fact, tensorflow internally will take the order of preference and sort it. ONLY THE ORDER MATTERS. Hence, if we go back to row 1 example:<br>\n",
        "if we set `y_true1 = tf.constant([[22., 11.,33.]])` or<br> `y_true1 = tf.constant([[2.2, 1.1,3.3]])`,<br>\n",
        "we will still get the same result."
      ],
      "metadata": {
        "id": "SyxVKb-arCdy"
      }
    },
    {
      "cell_type": "code",
      "source": [
        "y_true1 = tf.constant([[22., 11.,33.]]) ##### this allows you to specify the order of preference; higher the value, higher the priority\n",
        "y_pred1 = tf.constant([[0.5, 0.8,0.4] ])\n",
        "loss = tfr.keras.losses.ListMLELoss()\n",
        "l1 = loss(y_true1, y_pred1).numpy()\n",
        "l1"
      ],
      "metadata": {
        "colab": {
          "base_uri": "https://localhost:8080/"
        },
        "id": "K6e13GFsr0cY",
        "outputId": "bb18625c-94d0-403f-f662-d76c2460f8ab"
      },
      "execution_count": 28,
      "outputs": [
        {
          "output_type": "execute_result",
          "data": {
            "text/plain": [
              "2.1344543"
            ]
          },
          "metadata": {},
          "execution_count": 28
        }
      ]
    },
    {
      "cell_type": "code",
      "source": [
        "y_true1 = tf.constant([[2.2, 1.1,3.3]]) ##### this allows you to specify the order of preference; higher the value, higher the priority\n",
        "y_pred1 = tf.constant([[0.5, 0.8,0.4] ])\n",
        "loss = tfr.keras.losses.ListMLELoss()\n",
        "l1 = loss(y_true1, y_pred1).numpy()\n",
        "l1"
      ],
      "metadata": {
        "colab": {
          "base_uri": "https://localhost:8080/"
        },
        "id": "OCWulY0lsEUY",
        "outputId": "ddc7206a-2140-407e-efae-70faf4ef80a6"
      },
      "execution_count": 29,
      "outputs": [
        {
          "output_type": "execute_result",
          "data": {
            "text/plain": [
              "2.1344543"
            ]
          },
          "metadata": {},
          "execution_count": 29
        }
      ]
    },
    {
      "cell_type": "markdown",
      "source": [
        "# Cautions - Order of Preference Tie Breaking\n",
        "From the implementation, I discovered that when identical order of preference will result in random behavior. To see this in action, consider the following example:\n",
        "\n",
        "<table>\n",
        "  <thead>\n",
        "    <tr>\n",
        "      <td>Product A Score</td>\n",
        "      <td>Product B Score</td>\n",
        "      <td>Product C Score</td>\n",
        "      <td>Product D Score</td>\n",
        "      <td>Product E Score</td>\n",
        "      <td>Product F Score</td>\n",
        "      <td>Product G Score</td>\n",
        "      <td>Product H Score</td>\n",
        "      <td>Product I Score</td>\n",
        "      <td>Product J Score</td>\n",
        "      <td>Order of Preference</td>\n",
        "    </tr>\n",
        "  </thead> \n",
        "  <tr>\n",
        "      <td>0.1</td>\n",
        "      <td>0.2</td>\n",
        "      <td>0.3</td>\n",
        "      <td>0.4</td>\n",
        "      <td>0.5</td>\n",
        "      <td>0.6</td>\n",
        "      <td>0.7</td>\n",
        "      <td>0.8</td>\n",
        "      <td>0.9</td>\n",
        "      <td>1.0</td>\n",
        "      <td>J > others or equivalently [0,...,0,1] </td>\n",
        "  </tr>\n",
        "</table>\n",
        "\n",
        "Lets run this several times in tensorflow:"
      ],
      "metadata": {
        "id": "_Ujnb8GmHPvQ"
      }
    },
    {
      "cell_type": "code",
      "source": [
        "for i in range(10):\n",
        "  tf.random.set_seed(i)\n",
        "  y_true = tf.constant([[0.,0.,0.,0.,0.,0.,0.,0.,0.,1.]]) \n",
        "  y_pred = tf.constant([ [0.1, 0.2, 0.3, 0.4, 0.5, 0.6, 0.7, 0.8, 0.9, 1. ] ])\n",
        "  loss = tfr.keras.losses.ListMLELoss()\n",
        "  l = loss(y_true, y_pred).numpy()\n",
        "  print(f'trial#{i}',l)"
      ],
      "metadata": {
        "colab": {
          "base_uri": "https://localhost:8080/"
        },
        "id": "G_LnDDlinGHL",
        "outputId": "2138409b-9300-48f1-e1e9-0a0eb3070213"
      },
      "execution_count": 31,
      "outputs": [
        {
          "output_type": "stream",
          "name": "stdout",
          "text": [
            "trial#0 15.452932\n",
            "trial#1 15.356228\n",
            "trial#2 13.896395\n",
            "trial#3 14.8929\n",
            "trial#4 15.433755\n",
            "trial#5 14.246873\n",
            "trial#6 15.556316\n",
            "trial#7 15.693258\n",
            "trial#8 13.839419\n",
            "trial#9 14.375983\n"
          ]
        }
      ]
    },
    {
      "cell_type": "markdown",
      "source": [
        "This behavior is caused by these order of preference with ties. Tensorflow will internally shuffle them which leads to random results."
      ],
      "metadata": {
        "id": "aO4bW-_aovrR"
      }
    },
    {
      "cell_type": "markdown",
      "source": [
        "# Cautions - Order of Preference Can Take On Any Real Number < 0\n",
        "\n",
        "Another discovery is that if the order of preference take on negative values, tensorflow will have some special handling which may yield unwanted/incorrect result. Consider the following example:\n",
        "\n",
        "<table>\n",
        "  <thead>\n",
        "    <tr>\n",
        "      <td>Product A Score</td>\n",
        "      <td>Product B Score</td>\n",
        "      <td>Product C Score</td>\n",
        "      <td>Product D Score</td>\n",
        "      <td>Product E Score</td>\n",
        "      <td>Product F Score</td>\n",
        "      <td>Product G Score</td>\n",
        "      <td>Product H Score</td>\n",
        "      <td>Product I Score</td>\n",
        "      <td>Product J Score</td>\n",
        "      <td>Order of Preference</td>\n",
        "    </tr>\n",
        "  </thead> \n",
        "  <tr>\n",
        "      <td>0.1</td>\n",
        "      <td>0.2</td>\n",
        "      <td>0.3</td>\n",
        "      <td>0.4</td>\n",
        "      <td>0.5</td>\n",
        "      <td>0.6</td>\n",
        "      <td>0.7</td>\n",
        "      <td>0.8</td>\n",
        "      <td>0.9</td>\n",
        "      <td>1.0</td>\n",
        "      <td>J>A>B>C>...>I</td>\n",
        "  </tr>\n",
        "</table>\n",
        "\n",
        "To describe the order of J>A>B>C>...>I, we can use the following representation:\n",
        "<br>\n",
        "Option 1:[With negative]: [0,-1,-2,-3,-4,-5,-6,-7,-8,1]\n",
        "<br>\n",
        "Option 2:[Without negative]: [9., 8., 7., 6., 5., 4., 3., 2., 1., 10. ]\n",
        "\n",
        "Lets try it on tensorflow:"
      ],
      "metadata": {
        "id": "JMDPFc_HHwVJ"
      }
    },
    {
      "cell_type": "code",
      "source": [
        "tf.random.set_seed(123)\n",
        "y_true = tf.constant([ [0., -1., -2., -3., -4., -5., -6., -7., -8., 1. ] ]) \n",
        "y_pred = tf.constant([ [0.1, 0.2, 0.3, 0.4, 0.5, 0.6, 0.7, 0.8, 0.9, 1. ] ])\n",
        "loss = tfr.keras.losses.ListMLELoss()\n",
        "l = loss(y_true, y_pred).numpy()\n",
        "print(f'Option1 Represention: ',l)"
      ],
      "metadata": {
        "colab": {
          "base_uri": "https://localhost:8080/"
        },
        "id": "TvfZz1P7i1P-",
        "outputId": "c7e4eba4-16f5-43ce-ffaa-96814006dfbc"
      },
      "execution_count": 45,
      "outputs": [
        {
          "output_type": "stream",
          "name": "stdout",
          "text": [
            "Option1 Represention:  10.945755\n"
          ]
        }
      ]
    },
    {
      "cell_type": "code",
      "source": [
        "tf.random.set_seed(123)\n",
        "y_true = tf.constant([ [9., 8., 7., 6., 5., 4., 3., 2., 1., 10. ] ]) \n",
        "y_pred = tf.constant([ [0.1, 0.2, 0.3, 0.4, 0.5, 0.6, 0.7, 0.8, 0.9, 1. ] ])\n",
        "loss = tfr.keras.losses.ListMLELoss()\n",
        "l = loss(y_true, y_pred).numpy()\n",
        "print(f'Option2 Represention: ',l)"
      ],
      "metadata": {
        "colab": {
          "base_uri": "https://localhost:8080/"
        },
        "id": "vd2P9YiavOhj",
        "outputId": "f675a243-3251-48c6-c1a1-53f9ab8471ff"
      },
      "execution_count": 46,
      "outputs": [
        {
          "output_type": "stream",
          "name": "stdout",
          "text": [
            "Option2 Represention:  16.609795\n"
          ]
        }
      ]
    },
    {
      "cell_type": "markdown",
      "source": [
        "If you calculate this by hand, you will find that option2 representation will give the correct solution. Hence, as a word of advice, try not to use negative order of preference."
      ],
      "metadata": {
        "id": "9MmAjNHS0-cR"
      }
    },
    {
      "cell_type": "markdown",
      "source": [
        "# Playground: \n",
        "I have copied the tensorflow implementation so that you can examine the behavior in more detailed manner"
      ],
      "metadata": {
        "id": "WJv1oObeICHX"
      }
    },
    {
      "cell_type": "code",
      "source": [
        "from tensorflow_ranking import utils\n",
        "\n",
        "#####function parameters\n",
        "labels = tf.constant([ [0., -1., -2., -3., -4., -5., -6., -7., -8., 1. ] ])  ##### Order of Preference; higher value = higher priority\n",
        "logits = tf.constant([ [0.1, 0.2, 0.3, 0.4, 0.5, 0.6, 0.7, 0.8, 0.9, 1. ] ]) ###### scores from neural network\n",
        "\n",
        "\n",
        "######\n",
        "_EPSILON = 1e-10\n",
        "mask = None\n",
        "\n",
        "\n",
        "\n",
        "#######tensorflow implementation\n",
        "if mask is None:\n",
        "  mask = utils.is_label_valid(labels)\n",
        "\n",
        "\n",
        "# Reset the masked labels to 0 and reset the masked logits to a logit with\n",
        "# ~= 0 contribution.\n",
        "labels = tf.compat.v1.where(mask, labels, tf.zeros_like(labels))\n",
        "\n",
        "logits = tf.compat.v1.where(mask, logits,\n",
        "                            tf.math.log(_EPSILON) * tf.ones_like(logits))\n",
        "\n",
        "\n",
        "scores = tf.compat.v1.where(\n",
        "    mask, labels,\n",
        "    tf.reduce_min(input_tensor=labels, axis=1, keepdims=True) -\n",
        "    1e-6 * tf.ones_like(labels))\n",
        "\n",
        "\n",
        "# Use a fixed ops-level seed and the randomness is controlled by the\n",
        "# graph-level seed.\n",
        "sorted_labels, sorted_logits = utils.sort_by_scores(\n",
        "    scores, [labels, logits], shuffle_ties=True, seed=37)\n",
        "\n",
        "\n",
        "raw_max = tf.reduce_max(input_tensor=sorted_logits, axis=1, keepdims=True)\n",
        "\n",
        "sorted_logits = sorted_logits - raw_max\n",
        "\n",
        "sums = tf.cumsum(tf.exp(sorted_logits), axis=1, reverse=True)\n",
        "\n",
        "sums = tf.math.log(sums) - sorted_logits\n",
        "\n",
        "negative_log_likelihood = tf.reduce_sum(\n",
        "    input_tensor=sums, axis=1, keepdims=True)\n",
        "negative_log_likelihood, tf.ones_like(negative_log_likelihood)"
      ],
      "metadata": {
        "id": "XivUw6QRIbQY",
        "colab": {
          "base_uri": "https://localhost:8080/"
        },
        "outputId": "e3f642a6-c7e4-4756-edff-1a03cf15e30e"
      },
      "execution_count": 42,
      "outputs": [
        {
          "output_type": "execute_result",
          "data": {
            "text/plain": [
              "<tf.Tensor: shape=(1, 10), dtype=bool, numpy=\n",
              "array([[ True, False, False, False, False, False, False, False, False,\n",
              "         True]])>"
            ]
          },
          "metadata": {},
          "execution_count": 42
        }
      ]
    }
  ]
}